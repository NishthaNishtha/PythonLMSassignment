{
  "nbformat": 4,
  "nbformat_minor": 0,
  "metadata": {
    "colab": {
      "provenance": [],
      "toc_visible": true,
      "authorship_tag": "ABX9TyPPSyGz2c7jFa3GsAd7BVaN",
      "include_colab_link": true
    },
    "kernelspec": {
      "name": "python3",
      "display_name": "Python 3"
    },
    "language_info": {
      "name": "python"
    }
  },
  "cells": [
    {
      "cell_type": "markdown",
      "metadata": {
        "id": "view-in-github",
        "colab_type": "text"
      },
      "source": [
        "<a href=\"https://colab.research.google.com/github/NishthaNishtha/PythonLMSassignment/blob/main/Assignment1lms.ipynb\" target=\"_parent\"><img src=\"https://colab.research.google.com/assets/colab-badge.svg\" alt=\"Open In Colab\"/></a>"
      ]
    },
    {
      "cell_type": "markdown",
      "source": [
        "#*Assignment -01*\n",
        "\n",
        "---\n",
        "\n"
      ],
      "metadata": {
        "id": "oMlQ4UYhmDRZ"
      }
    },
    {
      "cell_type": "code",
      "execution_count": null,
      "metadata": {
        "colab": {
          "base_uri": "https://localhost:8080/"
        },
        "id": "LUUYiBHqcb8g",
        "outputId": "00725ac5-90b0-4074-f3d8-3084e9ab0a63",
        "collapsed": true
      },
      "outputs": [
        {
          "output_type": "stream",
          "name": "stdout",
          "text": [
            "Enter your First Name= Nishika\n",
            "Enter your Last name= Pepal\n",
            "Hello!Nishika Pepal Welcome to the python world.\n"
          ]
        }
      ],
      "source": [
        "#Basic Greeting Program.\n",
        "a=input(\"Enter your First Name= \")\n",
        "b=input('Enter your Last name= ')\n",
        "print('Hello!'+ a,b+' Welcome to the python world.')"
      ]
    },
    {
      "cell_type": "code",
      "source": [
        "#Before Swapping\n",
        "print('Before Swapping')\n",
        "a=int(input('enter a no: '))\n",
        "b=int(input('Enter b no: '))\n",
        "c=a\n",
        "a=b\n",
        "b=c\n",
        "#After Swapping\n",
        "print('After Swapping')\n",
        "print('a= ',a)\n",
        "print('b= ',b)\n"
      ],
      "metadata": {
        "colab": {
          "base_uri": "https://localhost:8080/"
        },
        "id": "B-2pqx94VX3m",
        "outputId": "62aaebf2-530f-461c-8fee-f2332e89f1b9"
      },
      "execution_count": null,
      "outputs": [
        {
          "output_type": "stream",
          "name": "stdout",
          "text": [
            "Before Swapping\n",
            "enter a no: 4\n",
            "Enter b no: 6\n",
            "After Swapping\n",
            "a=  6\n",
            "b=  4\n"
          ]
        }
      ]
    },
    {
      "cell_type": "code",
      "source": [
        "#Display the current python version installed on the system.\n",
        "\n",
        "import platform\n",
        "print(platform.python_version())"
      ],
      "metadata": {
        "colab": {
          "base_uri": "https://localhost:8080/"
        },
        "id": "XGHJD15pYhPx",
        "outputId": "00e4a3a5-3233-43f2-b71b-05979bbc30b6"
      },
      "execution_count": null,
      "outputs": [
        {
          "output_type": "stream",
          "name": "stdout",
          "text": [
            "3.11.13\n"
          ]
        }
      ]
    },
    {
      "cell_type": "code",
      "source": [
        "#Display some commonly used libraries like os, sys and math. confirming that they are available and can be loaded.\n",
        "\n",
        "import os\n",
        "import sys\n",
        "import math\n",
        "\n",
        "print(f\"os imported successfully: {os.__name__}\")\n",
        "print(f\"sys imported successfully: {sys.__name__}\")\n",
        "print(f\"math imported successfully: {math.__name__}\")"
      ],
      "metadata": {
        "colab": {
          "base_uri": "https://localhost:8080/"
        },
        "id": "fkIdVwOqaBdq",
        "outputId": "90cf4731-000d-4484-9780-217d0d1d7948"
      },
      "execution_count": null,
      "outputs": [
        {
          "output_type": "stream",
          "name": "stdout",
          "text": [
            "os imported successfully: os\n",
            "sys imported successfully: sys\n",
            "math imported successfully: math\n"
          ]
        }
      ]
    },
    {
      "cell_type": "markdown",
      "source": [
        "--------------------------------------------"
      ],
      "metadata": {
        "id": "_qLithC-kW8P"
      }
    },
    {
      "cell_type": "markdown",
      "source": [
        "#Create a Basic Shopping Cart Program.\n",
        " 1. User can add items to the cart with their prices.\n",
        " 2. It will demostrate its total cost.\n",
        " 3. Apply discount if applicable.\n",
        " 4. Display the final amount."
      ],
      "metadata": {
        "id": "hYt2M5zyka-X"
      }
    },
    {
      "cell_type": "code",
      "source": [
        "#Create a Basic Shopping Cart Program\n",
        "Item1=input('Enter Item1= ').strip()\n",
        "Price1=float(input('Enter Price1= '))\n",
        "\n",
        "Item2=input('Enter Item2= ').strip()\n",
        "Price2=float(input('Enter Price2= '))\n",
        "\n",
        "Item3=input('Enter Item3= ').strip()\n",
        "Price3=float(input('Enter Price3= '))\n",
        "\n",
        "Total_Cost=Price1+Price2+Price3\n",
        "print('Total Cost= ',Total_Cost)\n",
        "\n",
        "Discount=Total_Cost*0.1\n",
        "print('Discount= ',Discount)\n",
        "\n",
        "Final_Amount=Total_Cost-Discount\n",
        "print('Final Amount= ',Final_Amount)"
      ],
      "metadata": {
        "colab": {
          "base_uri": "https://localhost:8080/"
        },
        "id": "rFYNv3ihlog9",
        "outputId": "6c9de6f5-b6ab-4cc6-94f3-7ee63fc63411"
      },
      "execution_count": null,
      "outputs": [
        {
          "output_type": "stream",
          "name": "stdout",
          "text": [
            "Enter Item1= Saree\n",
            "Enter Price1= 350\n",
            "Enter Item2= Sweater\n",
            "Enter Price2= 290\n",
            "Enter Item3= Bralet\n",
            "Enter Price3= 459\n",
            "Total Cost=  1099.0\n",
            "Discount=  109.9\n",
            "Final Amount=  989.1\n"
          ]
        }
      ]
    },
    {
      "cell_type": "markdown",
      "source": [
        "#*Assignment-02*\n",
        "\n",
        "---\n",
        "\n"
      ],
      "metadata": {
        "id": "a9NpegUW4-4R"
      }
    },
    {
      "cell_type": "markdown",
      "source": [],
      "metadata": {
        "id": "CUM9998unOue"
      }
    },
    {
      "cell_type": "markdown",
      "source": [
        "#Create a Basic calculator ."
      ],
      "metadata": {
        "id": "hAplGk_M5Qhh"
      }
    },
    {
      "cell_type": "code",
      "source": [
        "a=int(input('Enter a= '))\n",
        "b=int(input('Enter b= '))\n",
        "print('a+b= ',a+b)\n",
        "print('a-b= ',a-b)\n",
        "print('a*b= ',a*b)\n",
        "print('a/b= ',a)\n",
        "print('a%b= ',a%b)\n",
        "print('a**b= ',a**b)"
      ],
      "metadata": {
        "colab": {
          "base_uri": "https://localhost:8080/"
        },
        "id": "zO1ktT9Q70AH",
        "outputId": "899a023a-fef3-44db-e109-462c146db0e5"
      },
      "execution_count": null,
      "outputs": [
        {
          "output_type": "stream",
          "name": "stdout",
          "text": [
            "Enter a= 48\n",
            "Enter b= 22\n",
            "a+b=  70\n",
            "a-b=  26\n",
            "a*b=  1056\n",
            "a/b=  48\n",
            "a%b=  4\n",
            "a**b=  9711967541295580042210555933809967104\n"
          ]
        }
      ]
    },
    {
      "cell_type": "markdown",
      "source": [
        "#Discount Calculator\n",
        "1. Total items + Total Price\n",
        "2. apply discount :\n",
        "\n",
        " 1. Discount rate should br 5% if total price lies in between 1000 to 2000.\n",
        " 2.  Discount rate should br 10% if total price lies in above 2000.\n",
        "\n"
      ],
      "metadata": {
        "id": "GpFsIlE1IY_F"
      }
    },
    {
      "cell_type": "code",
      "source": [
        "Item1=input('Enter Item1= ').strip()\n",
        "Price1=float(input('Enter Price1= '))\n",
        "\n",
        "Item2=input('Enter Item2= ').strip()\n",
        "Price2=float(input('Enter Price2= '))\n",
        "\n",
        "Item3=input('Enter Item3= ').strip()\n",
        "Price3=float(input('Enter Price3= '))\n",
        "\n",
        "Total_Cost=Price1+Price2+Price3\n",
        "print('Total Cost= ',Total_Cost)\n",
        "\n",
        "if(Total_Cost<=1000 and Total_Cost>=2000):\n",
        "  Discount=Total_Cost*0.05\n",
        "elif(Total_Cost>2000):\n",
        "  Discount=Total_Cost*0.1\n",
        "  print('Discount=',Discount)\n",
        "\n",
        "Final_Amount=Total_Cost-Discount\n",
        "print('Final Amount= ',Final_Amount)"
      ],
      "metadata": {
        "colab": {
          "base_uri": "https://localhost:8080/"
        },
        "id": "1Vfgtl1sLlpy",
        "outputId": "6f103bcb-b033-4553-f538-396e6899dcb3"
      },
      "execution_count": null,
      "outputs": [
        {
          "output_type": "stream",
          "name": "stdout",
          "text": [
            "Enter Item1= saree\n",
            "Enter Price1= 500\n",
            "Enter Item2= suit\n",
            "Enter Price2= 4000\n",
            "Enter Item3= vase\n",
            "Enter Price3= 1500\n",
            "Total Cost=  6000.0\n",
            "Discount= 600.0\n",
            "Final Amount=  5400.0\n"
          ]
        }
      ]
    },
    {
      "cell_type": "markdown",
      "source": [
        "#Comparing Two numbers using Comparison Operator."
      ],
      "metadata": {
        "id": "NSBMj6APPUGq"
      }
    },
    {
      "cell_type": "code",
      "source": [
        "#Comparing Two numbers using Comparison Operator.\n",
        "\n",
        "num1 = float(input(\"Enter the first number: \"))\n",
        "num2 = float(input(\"Enter the second number: \"))\n",
        "\n",
        "if num1 == num2:\n",
        "  print(\"The numbers are equal.\")\n",
        "elif num1 != num2:\n",
        "  print(\"The numbers are not equal.\")\n",
        "if num1 < num2:\n",
        "  print(\"The first number is less than the second number.\")\n",
        "elif num1 > num2:\n",
        "  print(\"The first number is greater than the second number.\")\n",
        "if num1 <= num2:\n",
        "  print(\"The first number is less than or equal to the second number.\")\n",
        "elif num1 >= num2:\n",
        "  print(\"The first number is greater than or equal to the second number.\")\n"
      ],
      "metadata": {
        "id": "hh3KxuYnTtj7"
      },
      "execution_count": null,
      "outputs": []
    },
    {
      "cell_type": "markdown",
      "source": [
        "#Create a simple text analysis program.\n",
        " Analyze a paragraph of text by:\n",
        "1. Counting the no. of words .\n",
        "2. Counting the no. of sentences.\n",
        "3. Replacing a word from the another word given by the user itself.\n",
        "\n"
      ],
      "metadata": {
        "id": "XZP1uYvKZQ_s"
      }
    },
    {
      "cell_type": "code",
      "source": [
        "# Create a simple text analysis program.\n",
        "# Analyze a paragraph of text by:\n",
        "# Counting the no. of words .\n",
        "# Counting the no. of sentences.\n",
        "# Replacing a word from the another word given by the user iyself.\n",
        "\n",
        "import re\n",
        "\n",
        "paragraph = input(\"Enter the paragraph of text: \")\n",
        "\n",
        "# Count words\n",
        "words = paragraph.split()\n",
        "word_count = len(words)\n",
        "print(f\"\\nNumber of words: {word_count}\")\n",
        "\n",
        "# Count sentences\n",
        "sentences = re.split(r'[.!?]+', paragraph)\n",
        "# Remove empty strings resulting from splitting\n",
        "sentences = [s for s in sentences if s.strip()]\n",
        "sentence_count = len(sentences)\n",
        "print(f\"Number of sentences: {sentence_count}\")\n",
        "\n",
        "# Replace a word\n",
        "word_to_replace = input(\"Enter the word you want to replace: \")\n",
        "replacement_word = input(f\"Enter the word you want to replace '{word_to_replace}' with: \")\n",
        "\n",
        "replaced_paragraph = paragraph.replace(word_to_replace, replacement_word)\n",
        "print(\"\\nParagraph after replacement:\")\n",
        "replaced_paragraph"
      ],
      "metadata": {
        "colab": {
          "base_uri": "https://localhost:8080/",
          "height": 216
        },
        "id": "2rDHKBSeY5wg",
        "outputId": "171801a6-c539-4c07-d3e5-7830c28e1047"
      },
      "execution_count": null,
      "outputs": [
        {
          "output_type": "stream",
          "name": "stdout",
          "text": [
            "Enter the paragraph of text: a quik brown fox jumps over a little lazy dog. the dos was of in white shade .fox is super cruel animal.\n",
            "\n",
            "Number of words: 22\n",
            "Number of sentences: 3\n",
            "Enter the word you want to replace: fox\n",
            "Enter the word you want to replace 'fox' with: wizard\n",
            "\n",
            "Paragraph after replacement:\n"
          ]
        },
        {
          "output_type": "execute_result",
          "data": {
            "text/plain": [
              "'a quik brown wizard jumps over a little lazy dog. the dos was of in white shade .wizard is super cruel animal.'"
            ],
            "application/vnd.google.colaboratory.intrinsic+json": {
              "type": "string"
            }
          },
          "metadata": {},
          "execution_count": 18
        }
      ]
    },
    {
      "cell_type": "markdown",
      "source": [
        "#**Assignment-03**\n",
        "\n",
        "---\n",
        "\n"
      ],
      "metadata": {
        "id": "bjAOZyDScWJ9"
      }
    },
    {
      "cell_type": "markdown",
      "source": [
        "WAP that takes a string from a user and count the no. of characters in the string.\n"
      ],
      "metadata": {
        "id": "U2NMyhV6eIyA"
      }
    },
    {
      "cell_type": "code",
      "source": [
        "# WAP that takes a string from a user and count the no. of characters in the string.\n",
        "\n",
        "user_string = input(\"Enter a string: \")\n",
        "char_count = len(user_string)\n",
        "print(f\"The number of characters in the string is: {char_count}\")"
      ],
      "metadata": {
        "colab": {
          "base_uri": "https://localhost:8080/"
        },
        "id": "rih8sW5weHqn",
        "outputId": "209c62da-8de2-49fd-f39a-01844ee64766"
      },
      "execution_count": null,
      "outputs": [
        {
          "output_type": "stream",
          "name": "stdout",
          "text": [
            "Enter a string: WAP that takes a string from a user and count the no. of characters in the string.\n",
            "The number of characters in the string is: 82\n"
          ]
        }
      ]
    },
    {
      "cell_type": "markdown",
      "source": [
        "#Extract a Substring where start and end indices are given by user.\n"
      ],
      "metadata": {
        "id": "D32Bdkb4jgDz"
      }
    },
    {
      "cell_type": "code",
      "source": [
        "#Extract a Substring where start and end indices are given by user.\n",
        "\n",
        "string_to_extract = input(\"Enter the string: \")\n",
        "start_index = int(input(\"Enter the starting index: \"))\n",
        "end_index = int(input(\"Enter the ending index: \"))\n",
        "\n",
        "if 0 <= start_index < len(string_to_extract) and 0 <= end_index <= len(string_to_extract) and start_index <= end_index:\n",
        "  substring = string_to_extract[start_index:end_index]\n",
        "  print(f\"Extracted substring: {substring}\")\n",
        "else:\n",
        "  print(\"Invalid start or end index.\")"
      ],
      "metadata": {
        "colab": {
          "base_uri": "https://localhost:8080/"
        },
        "id": "6BTtiqimizcC",
        "outputId": "50eeefef-41d4-4e6f-fc7c-0a77ced60fd7"
      },
      "execution_count": null,
      "outputs": [
        {
          "output_type": "stream",
          "name": "stdout",
          "text": [
            "Enter the string: Extract a Substring where start and end indices are given by user.\n",
            "Enter the starting index: 3\n",
            "Enter the ending index: 29\n",
            "Extracted substring: ract a Substring where sta\n"
          ]
        }
      ]
    },
    {
      "cell_type": "markdown",
      "source": [
        "#Write a pragram to check whether a word entered by user is palindrome or not."
      ],
      "metadata": {
        "id": "1c9ykTfRl_Fb"
      }
    },
    {
      "cell_type": "code",
      "source": [
        "word=input('Enter a word= ')\n",
        "Reverse=word[::-1]\n",
        "if(word==Reverse):\n",
        "  print(word , 'is a palindrome')\n",
        "else:\n",
        "  print(word ,'is not a palindrome')\n"
      ],
      "metadata": {
        "colab": {
          "base_uri": "https://localhost:8080/"
        },
        "id": "eGjRxnJwl-kp",
        "outputId": "f0aa0dd0-c9b3-4449-bf62-1b50dd12f3e8"
      },
      "execution_count": null,
      "outputs": [
        {
          "output_type": "stream",
          "name": "stdout",
          "text": [
            "Enter a word= mom\n",
            "mom is a palindrome\n"
          ]
        }
      ]
    },
    {
      "cell_type": "markdown",
      "source": [
        "Replace a word from a sentence with another word taken by user.\n"
      ],
      "metadata": {
        "id": "4fZ3q-heon-5"
      }
    },
    {
      "cell_type": "code",
      "source": [
        "#Replace a word from a sentence with another word taken by user\n",
        "\n",
        "paragraph = input(\"Enter the sentence: \")\n",
        "\n",
        "word_to_replace = input(\"Enter the word you want to replace: \")\n",
        "replacement_word = input(f\"Enter the word you want to replace '{word_to_replace}' with: \")\n",
        "\n",
        "replaced_paragraph = paragraph.replace(word_to_replace, replacement_word)\n",
        "print(\"\\nSentence after replacement:\")\n",
        "replaced_paragraph"
      ],
      "metadata": {
        "colab": {
          "base_uri": "https://localhost:8080/",
          "height": 125
        },
        "id": "u6xg7U_KrrdQ",
        "outputId": "9c44d758-a9fd-4abf-ce1e-56eb92c269c3"
      },
      "execution_count": null,
      "outputs": [
        {
          "output_type": "stream",
          "name": "stdout",
          "text": [
            "Enter the sentence: Replace a word from a sentence with another word taken by user\n",
            "Enter the word you want to replace: word\n",
            "Enter the word you want to replace 'word' with: deck\n",
            "\n",
            "Sentence after replacement:\n"
          ]
        },
        {
          "output_type": "execute_result",
          "data": {
            "text/plain": [
              "'Replace a deck from a sentence with another deck taken by user'"
            ],
            "application/vnd.google.colaboratory.intrinsic+json": {
              "type": "string"
            }
          },
          "metadata": {},
          "execution_count": 35
        }
      ]
    },
    {
      "cell_type": "markdown",
      "source": [
        "#*Assignment-04*\n",
        "\n",
        "---\n",
        "\n"
      ],
      "metadata": {
        "id": "Jq20MxZaVen6"
      }
    },
    {
      "cell_type": "markdown",
      "source": [
        "#Create a program using all the function of list , tuple, set and dictionary."
      ],
      "metadata": {
        "id": "SwGcQJs50Be8"
      }
    },
    {
      "cell_type": "code",
      "source": [
        "#Create a program using all the function of list , tuple, set and dictionary.\n",
        "\n",
        "# Demonstrate List functions\n",
        "print(\"\\n--- List Demonstration ---\")\n",
        "my_list = [1, 2, 3, 4, 5]\n",
        "print(f\"Original List: {my_list}\")\n",
        "\n",
        "my_list.append(6)\n",
        "print(f\"After append(6): {my_list}\")\n",
        "\n",
        "my_list.insert(1, 99)\n",
        "print(f\"After insert(1, 99): {my_list}\")\n",
        "\n",
        "my_list.remove(3)\n",
        "print(f\"After remove(3): {my_list}\")\n",
        "\n",
        "popped_item = my_list.pop()\n",
        "print(f\"After pop(): {my_list}, Popped item: {popped_item}\")\n",
        "\n",
        "my_list.sort()\n",
        "print(f\"After sort(): {my_list}\")\n",
        "\n",
        "my_list.reverse()\n",
        "print(f\"After reverse(): {my_list}\")\n",
        "\n",
        "print(f\"Index of 2: {my_list.index(2)}\")\n",
        "print(f\"Count of 99: {my_list.count(99)}\")\n",
        "\n",
        "# Demonstrate Tuple functions\n",
        "print(\"\\n--- Tuple Demonstration ---\")\n",
        "my_tuple = (10, 20, 30, 40, 20)\n",
        "print(f\"Original Tuple: {my_tuple}\")\n",
        "\n",
        "print(f\"Count of 20: {my_tuple.count(20)}\")\n",
        "print(f\"Index of 30: {my_tuple.index(30)}\")\n",
        "\n",
        "# Tuples are immutable, so no modification functions\n",
        "\n",
        "# Demonstrate Set functions\n",
        "print(\"\\n--- Set Demonstration ---\")\n",
        "my_set1 = {1, 2, 3, 4, 5}\n",
        "my_set2 = {4, 5, 6, 7, 8}\n",
        "print(f\"Set 1: {my_set1}\")\n",
        "print(f\"Set 2: {my_set2}\")\n",
        "\n",
        "my_set1.add(9)\n",
        "print(f\"After add(9) to Set 1: {my_set1}\")\n",
        "\n",
        "my_set1.remove(1)\n",
        "print(f\"After remove(1) from Set 1: {my_set1}\")\n",
        "\n",
        "union_set = my_set1.union(my_set2)\n",
        "print(f\"Union of Set 1 and Set 2: {union_set}\")\n",
        "\n",
        "intersection_set = my_set1.intersection(my_set2)\n",
        "print(f\"Intersection of Set 1 and Set 2: {intersection_set}\")\n",
        "\n",
        "difference_set = my_set1.difference(my_set2)\n",
        "print(f\"Difference (Set 1 - Set 2): {difference_set}\")\n",
        "\n",
        "symmetric_difference_set = my_set1.symmetric_difference(my_set2)\n",
        "print(f\"Symmetric Difference: {symmetric_difference_set}\")\n",
        "\n",
        "print(f\"Is Set 1 a subset of Set 2? {my_set1.issubset(my_set2)}\")\n",
        "print(f\"Is Set 1 a superset of {{99}}? {my_set1.issuperset({99})}\")\n",
        "\n",
        "# Demonstrate Dictionary functions\n",
        "print(\"\\n--- Dictionary Demonstration ---\")\n",
        "my_dict = {'a': 1, 'b': 2, 'c': 3}\n",
        "print(f\"Original Dictionary: {my_dict}\")\n",
        "\n",
        "print(f\"Value for key 'a': {my_dict.get('a')}\")\n",
        "print(f\"Keys: {my_dict.keys()}\")\n",
        "print(f\"Values: {my_dict.values()}\")\n",
        "print(f\"Items: {my_dict.items()}\")\n",
        "\n",
        "my_dict['d'] = 4\n",
        "print(f\"After adding {'d': 4}: {my_dict}\")\n",
        "\n",
        "popped_value = my_dict.pop('b')\n",
        "print(f\"After pop('b'): {my_dict}, Popped value: {popped_value}\")\n",
        "\n",
        "another_dict = {'e': 5, 'f': 6}\n",
        "my_dict.update(another_dict)\n",
        "print(f\"After update({{e: 5, f: 6}}): {my_dict}\")\n",
        "\n",
        "my_dict.clear()\n",
        "print(f\"After clear(): {my_dict}\")\n"
      ],
      "metadata": {
        "id": "Ahh_xvBH0hVt"
      },
      "execution_count": null,
      "outputs": []
    },
    {
      "cell_type": "markdown",
      "source": [
        "#Create a simple Student management system.\n",
        "1. Add Student Information(name,age,grades).\n",
        "2. Retrieve information about a specific student.\n",
        "3. Display a list of all students.\n",
        "4. Perform operation like calculating the average grade.\n"
      ],
      "metadata": {
        "id": "JNxLAldEUiW1"
      }
    },
    {
      "cell_type": "code",
      "source": [
        "#Create a simple Student management system without using functions.\n",
        "\n",
        "# Initialize student data\n",
        "student = {\n",
        "    'student1': {'name': 'Ram', 'age': '20', 'grades': [90, 80, 70]},\n",
        "    'student2': {'name': 'Geeta', 'age': '22', 'grades': [70, 80, 90]}\n",
        "}\n",
        "\n",
        "print(\"\\n--- Student Information ---\")\n",
        "# Display a list of all students.\n",
        "if student:\n",
        "  for student_id, info in student.items():\n",
        "    print(f\"Student ID: {student_id}\")\n",
        "    for key, value in info.items():\n",
        "      print(f\"  {key}: {value}\")\n",
        "else:\n",
        "  print(\"No students in the system.\")\n",
        "\n",
        "print(\"\\n--- Retrieve Student Info ---\")\n",
        "# Retrieve information about a specific student.\n",
        "student_id_to_retrieve = input(\"Enter the ID of the student to retrieve: \")\n",
        "if student_id_to_retrieve in student:\n",
        "  print(f\"Information for {student_id_to_retrieve}: {student[student_id_to_retrieve]}\")\n",
        "else:\n",
        "  print(f\"Student '{student_id_to_retrieve}' not found.\")\n",
        "\n",
        "print(\"\\n--- Calculate Average Grade ---\")\n",
        "# Perform operation like calculating the average grade.\n",
        "student_id_for_average = input(\"Enter the ID of the student to calculate average grade: \")\n",
        "if student_id_for_average in student and 'grades' in student[student_id_for_average]:\n",
        "  grades = student[student_id_for_average]['grades']\n",
        "  if grades:\n",
        "    average_grade = sum(grades) / len(grades)\n",
        "    print(f\"Average grade for {student_id_for_average}: {average_grade}\")\n",
        "  else:\n",
        "    print(f\"No grades available for student '{student_id_for_average}'.\")\n",
        "else:\n",
        "  print(f\"Student '{student_id_for_average}' not found or no grades available.\")"
      ],
      "metadata": {
        "colab": {
          "base_uri": "https://localhost:8080/"
        },
        "id": "jxmVckEpVVHY",
        "outputId": "4ed33290-2a62-4541-f7a9-8448b103cef9"
      },
      "execution_count": null,
      "outputs": [
        {
          "output_type": "stream",
          "name": "stdout",
          "text": [
            "\n",
            "--- Student Information ---\n",
            "Student ID: student1\n",
            "  name: Ram\n",
            "  age: 20\n",
            "  grades: [90, 80, 70]\n",
            "Student ID: student2\n",
            "  name: Geeta\n",
            "  age: 22\n",
            "  grades: [70, 80, 90]\n",
            "\n",
            "--- Retrieve Student Info ---\n",
            "Enter the ID of the student to retrieve: student1\n",
            "Information for student1: {'name': 'Ram', 'age': '20', 'grades': [90, 80, 70]}\n",
            "\n",
            "--- Calculate Average Grade ---\n",
            "Enter the ID of the student to calculate average grade: student1\n",
            "Average grade for student1: 80.0\n"
          ]
        }
      ]
    },
    {
      "cell_type": "markdown",
      "source": [
        "#Create a contact book .\n",
        "1. Add a new contact(name,phone number)\n",
        "2. Search for a contact by name.\n",
        "3. Display all context."
      ],
      "metadata": {
        "id": "a503oRCAjqq9"
      }
    },
    {
      "cell_type": "code",
      "source": [
        "from ast import Name\n",
        "contact={'contact1':{'name':'ram','phoneno.':'9876543210'}},\n",
        "{'contact2':{'name':'geeta','phoneno.':'9876543211'}},\n",
        "{'contact3':{'name':'shyam','phoneno.':'9876543212'}}\n",
        "\n",
        "print(\"\\n--- Add a New Contact\")\n",
        "name=input('Enter ur name= ')\n",
        "phoneno=input('Enter ur phone no.: ')\n",
        "for add in contact:\n",
        "  studentid=len(contact)+1\n",
        "  contact[f'contact{studentid}']={'name':name,'phoneno.':phoneno}\n",
        "  print(f\"Contact {studentid} added successfully.\")\n",
        "\n",
        "print(\"\\n--- search for a contact via name\")\n",
        "name_to_search=input('Enter the name to search: ')\n",
        "if name_to_search in contact:\n",
        "  print(f\"Contact found for {name_to_search}: {contact[name_to_search]}\")\n",
        "else:\n",
        "  print(f\"Contact '{name_to_search}' not found.\")\n",
        "\n",
        "print(\"\\n--- Display all context\")\n",
        "if contact:\n",
        "  for contact_id, info in contact.items():\n",
        "    print(f\"Contact ID: {contact_id}\")\n",
        "    for key, value in info.items():\n",
        "      print(f\"  {key}: {value}\")\n"
      ],
      "metadata": {
        "id": "Ogjzeby1kSuv"
      },
      "execution_count": null,
      "outputs": []
    },
    {
      "cell_type": "markdown",
      "source": [
        "#Calculate the intersection of two sets(take input from the user)."
      ],
      "metadata": {
        "id": "I1UHYzM8qXP4"
      }
    },
    {
      "cell_type": "code",
      "source": [
        "# Calculate the intersection of two sets (take input from the user).\n",
        "\n",
        "# Get input from the user for the first set\n",
        "input1_str = input(\"Enter elements for the first set, separated by commas: \")\n",
        "set1 = set(item.strip() for item in input1_str.split(','))\n",
        "\n",
        "# Get input from the user for the second set\n",
        "input2_str = input(\"Enter elements for the second set, separated by commas: \")\n",
        "set2 = set(item.strip() for item in input2_str.split(','))\n",
        "\n",
        "# Calculate the intersection\n",
        "intersection_set = set1.intersection(set2)\n",
        "\n",
        "# Display the result\n",
        "print(f\"\\nSet 1: {set1}\")\n",
        "print(f\"Set 2: {set2}\")\n",
        "print(f\"Intersection of the two sets: {intersection_set}\")"
      ],
      "metadata": {
        "colab": {
          "base_uri": "https://localhost:8080/"
        },
        "id": "EgUjZ41Iq8eR",
        "outputId": "4d5e5b58-4b94-4b87-b243-8ec431583a8a"
      },
      "execution_count": null,
      "outputs": [
        {
          "output_type": "stream",
          "name": "stdout",
          "text": [
            "Enter elements for the first set, separated by commas: 3,5\n",
            "Enter elements for the second set, separated by commas: 4,7\n",
            "\n",
            "Set 1: {'3', '5'}\n",
            "Set 2: {'4', '7'}\n",
            "Intersection of the two sets: set()\n"
          ]
        }
      ]
    },
    {
      "cell_type": "markdown",
      "source": [
        "#Manage an inventory function.\n",
        "1. Add new item (item_name,quantity)\n",
        "2. update the quantity of an item.\n",
        "3. Display the entire inventory."
      ],
      "metadata": {
        "id": "qIJFIgtHsI-M"
      }
    },
    {
      "cell_type": "code",
      "source": [
        "# Initialize inventory as a dictionary\n",
        "items = {\n",
        "    'item1': {'item_name': 'cake', 'quantity': 10},\n",
        "    'item2': {'item_name': 'biscuit', 'quantity': 20},\n",
        "    'item3': {'item_name': 'icecream', 'quantity': 30}\n",
        "}\n",
        "\n",
        "print(\"\\n--- Add new item\")\n",
        "item_name = input('Enter item_name= ')\n",
        "quantity = int(input('Enter quantity= '))\n",
        "\n",
        "# Determine the next item ID\n",
        "next_item_id = len(items) + 1\n",
        "new_item_key = f'item{next_item_id}'\n",
        "\n",
        "# Add the new item to the dictionary\n",
        "items[new_item_key] = {'item_name': item_name, 'quantity': quantity}\n",
        "print(f\"Item {new_item_key} added successfully.\")\n",
        "\n",
        "\n",
        "print(\"\\n--- update the quantity of an item\")\n",
        "item_name_to_update = input('Enter the item_name to update: ')\n",
        "item_found = False\n",
        "for item_id, info in items.items():\n",
        "    if info['item_name'].lower() == item_name_to_update.lower():\n",
        "        new_quantity = int(input('Enter the new quantity: '))\n",
        "        items[item_id]['quantity'] = new_quantity\n",
        "        print(f\"Quantity of '{item_name_to_update}' updated to {new_quantity}.\")\n",
        "        item_found = True\n",
        "        break\n",
        "if not item_found:\n",
        "  print(f\"Item '{item_name_to_update}' not found in the inventory.\")\n",
        "\n",
        "\n",
        "print(\"\\n--- Display the entire inventory\")\n",
        "if items:\n",
        "  for item_id, info in items.items():\n",
        "    print(f\"Item ID: {item_id}\")\n",
        "    for key, value in info.items():\n",
        "      print(f\"  {key}: {value}\")\n",
        "else:\n",
        "  print(\"The inventory is empty.\")"
      ],
      "metadata": {
        "colab": {
          "base_uri": "https://localhost:8080/"
        },
        "id": "GgMqLcY4stXw",
        "outputId": "28f8e573-18e1-4b8e-b3a5-3e065a273479"
      },
      "execution_count": null,
      "outputs": [
        {
          "output_type": "stream",
          "name": "stdout",
          "text": [
            "\n",
            "--- Add new item\n",
            "Enter item_name= Namkeen\n",
            "Enter quantity= 40\n",
            "Item item4 added successfully.\n",
            "\n",
            "--- update the quantity of an item\n",
            "Enter the item_name to update: cake\n",
            "Enter the new quantity: 60\n",
            "Quantity of 'cake' updated to 60.\n",
            "\n",
            "--- Display the entire inventory\n",
            "Item ID: item1\n",
            "  item_name: cake\n",
            "  quantity: 60\n",
            "Item ID: item2\n",
            "  item_name: biscuit\n",
            "  quantity: 20\n",
            "Item ID: item3\n",
            "  item_name: icecream\n",
            "  quantity: 30\n",
            "Item ID: item4\n",
            "  item_name: Namkeen\n",
            "  quantity: 40\n"
          ]
        }
      ]
    }
  ]
}